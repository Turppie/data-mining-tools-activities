{
 "cells": [
  {
   "cell_type": "code",
   "execution_count": 5,
   "id": "0318c3b1",
   "metadata": {},
   "outputs": [],
   "source": [
    "import pandas as pd\n",
    "import numpy as np\n",
    "import seaborn as sns\n",
    "import matplotlib.pyplot as plt"
   ]
  },
  {
   "cell_type": "markdown",
   "id": "317ec854",
   "metadata": {},
   "source": [
    "# EDA"
   ]
  },
  {
   "cell_type": "code",
   "execution_count": 7,
   "id": "ab95fc5f",
   "metadata": {},
   "outputs": [],
   "source": [
    "data = pd.read_excel('Base de datos v1.xlsx')"
   ]
  },
  {
   "cell_type": "code",
   "execution_count": 8,
   "id": "710b3d50",
   "metadata": {},
   "outputs": [
    {
     "name": "stdout",
     "output_type": "stream",
     "text": [
      "<class 'pandas.core.frame.DataFrame'>\n",
      "RangeIndex: 20000 entries, 0 to 19999\n",
      "Data columns (total 12 columns):\n",
      " #   Column                   Non-Null Count  Dtype  \n",
      "---  ------                   --------------  -----  \n",
      " 0   ID_Cliente               20000 non-null  int64  \n",
      " 1   Edad                     19700 non-null  float64\n",
      " 2   Genero                   20000 non-null  object \n",
      " 3   Estado_Civil             20000 non-null  object \n",
      " 4   Ingreso_Mensual          19500 non-null  float64\n",
      " 5   Transacciones_Mensuales  20000 non-null  int64  \n",
      " 6   Monto_Promedio_Compra    19800 non-null  float64\n",
      " 7   Uso_Linea_Credito_Pct    20000 non-null  float64\n",
      " 8   Pagos_Atrasados          20000 non-null  int64  \n",
      " 9   Antiguedad_Meses         20000 non-null  int64  \n",
      " 10  Productos_Adicionales    20000 non-null  int64  \n",
      " 11  Fuga                     20000 non-null  int64  \n",
      "dtypes: float64(4), int64(6), object(2)\n",
      "memory usage: 1.8+ MB\n"
     ]
    }
   ],
   "source": [
    "data.info()"
   ]
  },
  {
   "cell_type": "code",
   "execution_count": 9,
   "id": "eef4e200",
   "metadata": {},
   "outputs": [
    {
     "data": {
      "text/html": [
       "<div>\n",
       "<style scoped>\n",
       "    .dataframe tbody tr th:only-of-type {\n",
       "        vertical-align: middle;\n",
       "    }\n",
       "\n",
       "    .dataframe tbody tr th {\n",
       "        vertical-align: top;\n",
       "    }\n",
       "\n",
       "    .dataframe thead th {\n",
       "        text-align: right;\n",
       "    }\n",
       "</style>\n",
       "<table border=\"1\" class=\"dataframe\">\n",
       "  <thead>\n",
       "    <tr style=\"text-align: right;\">\n",
       "      <th></th>\n",
       "      <th>ID_Cliente</th>\n",
       "      <th>Edad</th>\n",
       "      <th>Ingreso_Mensual</th>\n",
       "      <th>Transacciones_Mensuales</th>\n",
       "      <th>Monto_Promedio_Compra</th>\n",
       "      <th>Uso_Linea_Credito_Pct</th>\n",
       "      <th>Pagos_Atrasados</th>\n",
       "      <th>Antiguedad_Meses</th>\n",
       "      <th>Productos_Adicionales</th>\n",
       "      <th>Fuga</th>\n",
       "    </tr>\n",
       "  </thead>\n",
       "  <tbody>\n",
       "    <tr>\n",
       "      <th>count</th>\n",
       "      <td>20000.000000</td>\n",
       "      <td>19700.000000</td>\n",
       "      <td>19500.000000</td>\n",
       "      <td>20000.000000</td>\n",
       "      <td>19800.000000</td>\n",
       "      <td>20000.000000</td>\n",
       "      <td>20000.000000</td>\n",
       "      <td>20000.00000</td>\n",
       "      <td>20000.000000</td>\n",
       "      <td>20000.000000</td>\n",
       "    </tr>\n",
       "    <tr>\n",
       "      <th>mean</th>\n",
       "      <td>10000.500000</td>\n",
       "      <td>40.187360</td>\n",
       "      <td>4006.623795</td>\n",
       "      <td>31.496050</td>\n",
       "      <td>519.013752</td>\n",
       "      <td>0.285052</td>\n",
       "      <td>0.802350</td>\n",
       "      <td>35.80920</td>\n",
       "      <td>1.088500</td>\n",
       "      <td>0.185350</td>\n",
       "    </tr>\n",
       "    <tr>\n",
       "      <th>std</th>\n",
       "      <td>5773.647028</td>\n",
       "      <td>11.628559</td>\n",
       "      <td>2848.305669</td>\n",
       "      <td>31.443938</td>\n",
       "      <td>413.345305</td>\n",
       "      <td>0.159271</td>\n",
       "      <td>0.894217</td>\n",
       "      <td>35.80716</td>\n",
       "      <td>1.204259</td>\n",
       "      <td>0.388591</td>\n",
       "    </tr>\n",
       "    <tr>\n",
       "      <th>min</th>\n",
       "      <td>1.000000</td>\n",
       "      <td>18.000000</td>\n",
       "      <td>200.000000</td>\n",
       "      <td>12.000000</td>\n",
       "      <td>23.540000</td>\n",
       "      <td>0.000000</td>\n",
       "      <td>0.000000</td>\n",
       "      <td>1.00000</td>\n",
       "      <td>0.000000</td>\n",
       "      <td>0.000000</td>\n",
       "    </tr>\n",
       "    <tr>\n",
       "      <th>25%</th>\n",
       "      <td>5000.750000</td>\n",
       "      <td>32.000000</td>\n",
       "      <td>1916.000000</td>\n",
       "      <td>26.000000</td>\n",
       "      <td>252.875000</td>\n",
       "      <td>0.160000</td>\n",
       "      <td>0.000000</td>\n",
       "      <td>10.00000</td>\n",
       "      <td>0.000000</td>\n",
       "      <td>0.000000</td>\n",
       "    </tr>\n",
       "    <tr>\n",
       "      <th>50%</th>\n",
       "      <td>10000.500000</td>\n",
       "      <td>40.000000</td>\n",
       "      <td>3351.000000</td>\n",
       "      <td>30.000000</td>\n",
       "      <td>406.355000</td>\n",
       "      <td>0.260000</td>\n",
       "      <td>1.000000</td>\n",
       "      <td>25.00000</td>\n",
       "      <td>1.000000</td>\n",
       "      <td>0.000000</td>\n",
       "    </tr>\n",
       "    <tr>\n",
       "      <th>75%</th>\n",
       "      <td>15000.250000</td>\n",
       "      <td>48.000000</td>\n",
       "      <td>5373.000000</td>\n",
       "      <td>34.000000</td>\n",
       "      <td>647.460000</td>\n",
       "      <td>0.390000</td>\n",
       "      <td>1.000000</td>\n",
       "      <td>50.00000</td>\n",
       "      <td>2.000000</td>\n",
       "      <td>0.000000</td>\n",
       "    </tr>\n",
       "    <tr>\n",
       "      <th>max</th>\n",
       "      <td>20000.000000</td>\n",
       "      <td>75.000000</td>\n",
       "      <td>28733.000000</td>\n",
       "      <td>967.000000</td>\n",
       "      <td>6635.400000</td>\n",
       "      <td>0.900000</td>\n",
       "      <td>6.000000</td>\n",
       "      <td>240.00000</td>\n",
       "      <td>8.000000</td>\n",
       "      <td>1.000000</td>\n",
       "    </tr>\n",
       "  </tbody>\n",
       "</table>\n",
       "</div>"
      ],
      "text/plain": [
       "         ID_Cliente          Edad  Ingreso_Mensual  Transacciones_Mensuales  \\\n",
       "count  20000.000000  19700.000000     19500.000000             20000.000000   \n",
       "mean   10000.500000     40.187360      4006.623795                31.496050   \n",
       "std     5773.647028     11.628559      2848.305669                31.443938   \n",
       "min        1.000000     18.000000       200.000000                12.000000   \n",
       "25%     5000.750000     32.000000      1916.000000                26.000000   \n",
       "50%    10000.500000     40.000000      3351.000000                30.000000   \n",
       "75%    15000.250000     48.000000      5373.000000                34.000000   \n",
       "max    20000.000000     75.000000     28733.000000               967.000000   \n",
       "\n",
       "       Monto_Promedio_Compra  Uso_Linea_Credito_Pct  Pagos_Atrasados  \\\n",
       "count           19800.000000           20000.000000     20000.000000   \n",
       "mean              519.013752               0.285052         0.802350   \n",
       "std               413.345305               0.159271         0.894217   \n",
       "min                23.540000               0.000000         0.000000   \n",
       "25%               252.875000               0.160000         0.000000   \n",
       "50%               406.355000               0.260000         1.000000   \n",
       "75%               647.460000               0.390000         1.000000   \n",
       "max              6635.400000               0.900000         6.000000   \n",
       "\n",
       "       Antiguedad_Meses  Productos_Adicionales          Fuga  \n",
       "count       20000.00000           20000.000000  20000.000000  \n",
       "mean           35.80920               1.088500      0.185350  \n",
       "std            35.80716               1.204259      0.388591  \n",
       "min             1.00000               0.000000      0.000000  \n",
       "25%            10.00000               0.000000      0.000000  \n",
       "50%            25.00000               1.000000      0.000000  \n",
       "75%            50.00000               2.000000      0.000000  \n",
       "max           240.00000               8.000000      1.000000  "
      ]
     },
     "execution_count": 9,
     "metadata": {},
     "output_type": "execute_result"
    }
   ],
   "source": [
    "data.describe()"
   ]
  },
  {
   "cell_type": "markdown",
   "id": "1535f553",
   "metadata": {},
   "source": [
    "# Análisis Univariado"
   ]
  },
  {
   "cell_type": "markdown",
   "id": "e788bf70",
   "metadata": {},
   "source": [
    "# Análisis Multivariado"
   ]
  },
  {
   "cell_type": "markdown",
   "id": "3b6e4994",
   "metadata": {},
   "source": [
    "# Entrenamiento"
   ]
  }
 ],
 "metadata": {
  "kernelspec": {
   "display_name": "venv",
   "language": "python",
   "name": "python3"
  },
  "language_info": {
   "codemirror_mode": {
    "name": "ipython",
    "version": 3
   },
   "file_extension": ".py",
   "mimetype": "text/x-python",
   "name": "python",
   "nbconvert_exporter": "python",
   "pygments_lexer": "ipython3",
   "version": "3.11.13"
  }
 },
 "nbformat": 4,
 "nbformat_minor": 5
}
