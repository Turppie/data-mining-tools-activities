{
  "cells": [
    {
      "cell_type": "code",
      "execution_count": 1,
      "id": "0318c3b1",
      "metadata": {
        "id": "0318c3b1"
      },
      "outputs": [],
      "source": [
        "import pandas as pd\n",
        "import numpy as np\n",
        "import seaborn as sns\n",
        "import matplotlib.pyplot as plt"
      ]
    },
    {
      "cell_type": "code",
      "execution_count": 2,
      "id": "ab95fc5f",
      "metadata": {
        "id": "ab95fc5f"
      },
      "outputs": [],
      "source": [
        "data = pd.read_excel('Base de datos v1.xlsx')"
      ]
    },
    {
      "cell_type": "code",
      "execution_count": 3,
      "id": "710b3d50",
      "metadata": {
        "colab": {
          "base_uri": "https://localhost:8080/"
        },
        "id": "710b3d50",
        "outputId": "fc75eb14-997a-4bec-ce79-6be5b49b3381"
      },
      "outputs": [
        {
          "name": "stdout",
          "output_type": "stream",
          "text": [
            "<class 'pandas.core.frame.DataFrame'>\n",
            "RangeIndex: 20000 entries, 0 to 19999\n",
            "Data columns (total 12 columns):\n",
            " #   Column                   Non-Null Count  Dtype  \n",
            "---  ------                   --------------  -----  \n",
            " 0   ID_Cliente               20000 non-null  int64  \n",
            " 1   Edad                     19700 non-null  float64\n",
            " 2   Genero                   20000 non-null  object \n",
            " 3   Estado_Civil             20000 non-null  object \n",
            " 4   Ingreso_Mensual          19500 non-null  float64\n",
            " 5   Transacciones_Mensuales  20000 non-null  int64  \n",
            " 6   Monto_Promedio_Compra    19800 non-null  float64\n",
            " 7   Uso_Linea_Credito_Pct    20000 non-null  float64\n",
            " 8   Pagos_Atrasados          20000 non-null  int64  \n",
            " 9   Antiguedad_Meses         20000 non-null  int64  \n",
            " 10  Productos_Adicionales    20000 non-null  int64  \n",
            " 11  Fuga                     20000 non-null  int64  \n",
            "dtypes: float64(4), int64(6), object(2)\n",
            "memory usage: 1.8+ MB\n"
          ]
        }
      ],
      "source": [
        "data.info()"
      ]
    },
    {
      "cell_type": "code",
      "execution_count": 4,
      "id": "eef4e200",
      "metadata": {
        "colab": {
          "base_uri": "https://localhost:8080/",
          "height": 320
        },
        "id": "eef4e200",
        "outputId": "d5c4da40-81a7-4d22-8b12-76fc5d54c545"
      },
      "outputs": [
        {
          "data": {
            "text/html": [
              "<div>\n",
              "<style scoped>\n",
              "    .dataframe tbody tr th:only-of-type {\n",
              "        vertical-align: middle;\n",
              "    }\n",
              "\n",
              "    .dataframe tbody tr th {\n",
              "        vertical-align: top;\n",
              "    }\n",
              "\n",
              "    .dataframe thead th {\n",
              "        text-align: right;\n",
              "    }\n",
              "</style>\n",
              "<table border=\"1\" class=\"dataframe\">\n",
              "  <thead>\n",
              "    <tr style=\"text-align: right;\">\n",
              "      <th></th>\n",
              "      <th>ID_Cliente</th>\n",
              "      <th>Edad</th>\n",
              "      <th>Ingreso_Mensual</th>\n",
              "      <th>Transacciones_Mensuales</th>\n",
              "      <th>Monto_Promedio_Compra</th>\n",
              "      <th>Uso_Linea_Credito_Pct</th>\n",
              "      <th>Pagos_Atrasados</th>\n",
              "      <th>Antiguedad_Meses</th>\n",
              "      <th>Productos_Adicionales</th>\n",
              "      <th>Fuga</th>\n",
              "    </tr>\n",
              "  </thead>\n",
              "  <tbody>\n",
              "    <tr>\n",
              "      <th>count</th>\n",
              "      <td>20000.000000</td>\n",
              "      <td>19700.000000</td>\n",
              "      <td>19500.000000</td>\n",
              "      <td>20000.000000</td>\n",
              "      <td>19800.000000</td>\n",
              "      <td>20000.000000</td>\n",
              "      <td>20000.000000</td>\n",
              "      <td>20000.00000</td>\n",
              "      <td>20000.000000</td>\n",
              "      <td>20000.000000</td>\n",
              "    </tr>\n",
              "    <tr>\n",
              "      <th>mean</th>\n",
              "      <td>10000.500000</td>\n",
              "      <td>40.187360</td>\n",
              "      <td>4006.623795</td>\n",
              "      <td>31.496050</td>\n",
              "      <td>519.013752</td>\n",
              "      <td>0.285052</td>\n",
              "      <td>0.802350</td>\n",
              "      <td>35.80920</td>\n",
              "      <td>1.088500</td>\n",
              "      <td>0.185350</td>\n",
              "    </tr>\n",
              "    <tr>\n",
              "      <th>std</th>\n",
              "      <td>5773.647028</td>\n",
              "      <td>11.628559</td>\n",
              "      <td>2848.305669</td>\n",
              "      <td>31.443938</td>\n",
              "      <td>413.345305</td>\n",
              "      <td>0.159271</td>\n",
              "      <td>0.894217</td>\n",
              "      <td>35.80716</td>\n",
              "      <td>1.204259</td>\n",
              "      <td>0.388591</td>\n",
              "    </tr>\n",
              "    <tr>\n",
              "      <th>min</th>\n",
              "      <td>1.000000</td>\n",
              "      <td>18.000000</td>\n",
              "      <td>200.000000</td>\n",
              "      <td>12.000000</td>\n",
              "      <td>23.540000</td>\n",
              "      <td>0.000000</td>\n",
              "      <td>0.000000</td>\n",
              "      <td>1.00000</td>\n",
              "      <td>0.000000</td>\n",
              "      <td>0.000000</td>\n",
              "    </tr>\n",
              "    <tr>\n",
              "      <th>25%</th>\n",
              "      <td>5000.750000</td>\n",
              "      <td>32.000000</td>\n",
              "      <td>1916.000000</td>\n",
              "      <td>26.000000</td>\n",
              "      <td>252.875000</td>\n",
              "      <td>0.160000</td>\n",
              "      <td>0.000000</td>\n",
              "      <td>10.00000</td>\n",
              "      <td>0.000000</td>\n",
              "      <td>0.000000</td>\n",
              "    </tr>\n",
              "    <tr>\n",
              "      <th>50%</th>\n",
              "      <td>10000.500000</td>\n",
              "      <td>40.000000</td>\n",
              "      <td>3351.000000</td>\n",
              "      <td>30.000000</td>\n",
              "      <td>406.355000</td>\n",
              "      <td>0.260000</td>\n",
              "      <td>1.000000</td>\n",
              "      <td>25.00000</td>\n",
              "      <td>1.000000</td>\n",
              "      <td>0.000000</td>\n",
              "    </tr>\n",
              "    <tr>\n",
              "      <th>75%</th>\n",
              "      <td>15000.250000</td>\n",
              "      <td>48.000000</td>\n",
              "      <td>5373.000000</td>\n",
              "      <td>34.000000</td>\n",
              "      <td>647.460000</td>\n",
              "      <td>0.390000</td>\n",
              "      <td>1.000000</td>\n",
              "      <td>50.00000</td>\n",
              "      <td>2.000000</td>\n",
              "      <td>0.000000</td>\n",
              "    </tr>\n",
              "    <tr>\n",
              "      <th>max</th>\n",
              "      <td>20000.000000</td>\n",
              "      <td>75.000000</td>\n",
              "      <td>28733.000000</td>\n",
              "      <td>967.000000</td>\n",
              "      <td>6635.400000</td>\n",
              "      <td>0.900000</td>\n",
              "      <td>6.000000</td>\n",
              "      <td>240.00000</td>\n",
              "      <td>8.000000</td>\n",
              "      <td>1.000000</td>\n",
              "    </tr>\n",
              "  </tbody>\n",
              "</table>\n",
              "</div>"
            ],
            "text/plain": [
              "         ID_Cliente          Edad  Ingreso_Mensual  Transacciones_Mensuales  \\\n",
              "count  20000.000000  19700.000000     19500.000000             20000.000000   \n",
              "mean   10000.500000     40.187360      4006.623795                31.496050   \n",
              "std     5773.647028     11.628559      2848.305669                31.443938   \n",
              "min        1.000000     18.000000       200.000000                12.000000   \n",
              "25%     5000.750000     32.000000      1916.000000                26.000000   \n",
              "50%    10000.500000     40.000000      3351.000000                30.000000   \n",
              "75%    15000.250000     48.000000      5373.000000                34.000000   \n",
              "max    20000.000000     75.000000     28733.000000               967.000000   \n",
              "\n",
              "       Monto_Promedio_Compra  Uso_Linea_Credito_Pct  Pagos_Atrasados  \\\n",
              "count           19800.000000           20000.000000     20000.000000   \n",
              "mean              519.013752               0.285052         0.802350   \n",
              "std               413.345305               0.159271         0.894217   \n",
              "min                23.540000               0.000000         0.000000   \n",
              "25%               252.875000               0.160000         0.000000   \n",
              "50%               406.355000               0.260000         1.000000   \n",
              "75%               647.460000               0.390000         1.000000   \n",
              "max              6635.400000               0.900000         6.000000   \n",
              "\n",
              "       Antiguedad_Meses  Productos_Adicionales          Fuga  \n",
              "count       20000.00000           20000.000000  20000.000000  \n",
              "mean           35.80920               1.088500      0.185350  \n",
              "std            35.80716               1.204259      0.388591  \n",
              "min             1.00000               0.000000      0.000000  \n",
              "25%            10.00000               0.000000      0.000000  \n",
              "50%            25.00000               1.000000      0.000000  \n",
              "75%            50.00000               2.000000      0.000000  \n",
              "max           240.00000               8.000000      1.000000  "
            ]
          },
          "execution_count": 4,
          "metadata": {},
          "output_type": "execute_result"
        }
      ],
      "source": [
        "data.describe()"
      ]
    },
    {
      "cell_type": "code",
      "execution_count": 5,
      "id": "81a1cb1d",
      "metadata": {
        "colab": {
          "base_uri": "https://localhost:8080/",
          "height": 460
        },
        "id": "81a1cb1d",
        "outputId": "15aeb9e1-94fe-480b-ff88-f28afbc0eec9"
      },
      "outputs": [
        {
          "data": {
            "text/plain": [
              "ID_Cliente                 0.0\n",
              "Edad                       1.5\n",
              "Genero                     0.0\n",
              "Estado_Civil               0.0\n",
              "Ingreso_Mensual            2.5\n",
              "Transacciones_Mensuales    0.0\n",
              "Monto_Promedio_Compra      1.0\n",
              "Uso_Linea_Credito_Pct      0.0\n",
              "Pagos_Atrasados            0.0\n",
              "Antiguedad_Meses           0.0\n",
              "Productos_Adicionales      0.0\n",
              "Fuga                       0.0\n",
              "dtype: float64"
            ]
          },
          "execution_count": 5,
          "metadata": {},
          "output_type": "execute_result"
        }
      ],
      "source": [
        "data.isnull().sum()/len(data)*100"
      ]
    },
    {
      "cell_type": "markdown",
      "id": "181b52a6",
      "metadata": {
        "id": "181b52a6"
      },
      "source": [
        "## Imputación nulos"
      ]
    },
    {
      "cell_type": "code",
      "execution_count": 6,
      "id": "0a735ff0",
      "metadata": {},
      "outputs": [],
      "source": [
        "data.dropna(subset=['Edad', 'Ingreso_Mensual', 'Monto_Promedio_Compra'], inplace=True)"
      ]
    },
    {
      "cell_type": "code",
      "execution_count": 7,
      "id": "300f3c76",
      "metadata": {},
      "outputs": [
        {
          "data": {
            "text/plain": [
              "ID_Cliente                 0.0\n",
              "Edad                       0.0\n",
              "Genero                     0.0\n",
              "Estado_Civil               0.0\n",
              "Ingreso_Mensual            0.0\n",
              "Transacciones_Mensuales    0.0\n",
              "Monto_Promedio_Compra      0.0\n",
              "Uso_Linea_Credito_Pct      0.0\n",
              "Pagos_Atrasados            0.0\n",
              "Antiguedad_Meses           0.0\n",
              "Productos_Adicionales      0.0\n",
              "Fuga                       0.0\n",
              "dtype: float64"
            ]
          },
          "execution_count": 7,
          "metadata": {},
          "output_type": "execute_result"
        }
      ],
      "source": [
        "data.isnull().sum()/len(data)*100"
      ]
    },
    {
      "cell_type": "markdown",
      "id": "1ee4f854",
      "metadata": {
        "id": "1ee4f854"
      },
      "source": [
        "## Distribución de variable objetivo"
      ]
    },
    {
      "cell_type": "code",
      "execution_count": 8,
      "id": "223e1e52",
      "metadata": {
        "colab": {
          "base_uri": "https://localhost:8080/",
          "height": 472
        },
        "id": "223e1e52",
        "outputId": "b867ab89-6367-450f-b332-a1877c080af9"
      },
      "outputs": [
        {
          "data": {
            "image/png": "[encoded data removed]",
            "text/plain": [
              "<Figure size 640x480 with 1 Axes>"
            ]
          },
          "metadata": {},
          "output_type": "display_data"
        }
      ],
      "source": [
        "sns.countplot(data=data, x='Fuga', hue='Fuga', palette=\"Set2\")\n",
        "plt.title(\"Distribución de la Variable Objetivo 'Fuga'\")\n",
        "plt.show()"
      ]
    },
    {
      "cell_type": "markdown",
      "id": "850cdb22",
      "metadata": {
        "id": "850cdb22"
      },
      "source": [
        "\n",
        "Fuga (variable objetivo): El dataset está desbalanceado, lo cual puede requerir técnicas de balanceo para modelos predictivos.\n"
      ]
    },
    {
      "cell_type": "markdown",
      "id": "f39805ed",
      "metadata": {},
      "source": [
        "## Pipelines de Cross Validation en la Data cruda usando distintas técnicas de undersampling"
      ]
    },
    {
      "cell_type": "code",
      "execution_count": 9,
      "id": "c55df648",
      "metadata": {},
      "outputs": [],
      "source": [
        "RSEED = 42"
      ]
    },
    {
      "cell_type": "code",
      "execution_count": 19,
      "id": "7f50366b",
      "metadata": {},
      "outputs": [],
      "source": [
        "import numpy as np\n",
        "import pandas as pd\n",
        "\n",
        "from sklearn.model_selection import train_test_split, RepeatedStratifiedKFold, cross_validate\n",
        "from sklearn.compose import ColumnTransformer\n",
        "from sklearn.preprocessing import OneHotEncoder, StandardScaler\n",
        "from sklearn.impute import SimpleImputer\n",
        "from sklearn.pipeline import Pipeline as SkPipeline\n",
        "from imblearn.pipeline import Pipeline \n",
        "\n",
        "from sklearn.linear_model import LogisticRegression\n",
        "from sklearn.metrics import (\n",
        "    roc_auc_score, average_precision_score, f1_score, recall_score, precision_score,\n",
        "    balanced_accuracy_score, matthews_corrcoef, precision_recall_curve, confusion_matrix, classification_report\n",
        ")\n",
        "\n",
        "# Samplers / Ensembles\n",
        "from imblearn.under_sampling import (\n",
        "    RandomUnderSampler, NearMiss, InstanceHardnessThreshold, NeighbourhoodCleaningRule\n",
        ")\n",
        "from imblearn.ensemble import BalancedRandomForestClassifier, EasyEnsembleClassifier\n"
      ]
    },
    {
      "cell_type": "markdown",
      "id": "b91517a5",
      "metadata": {},
      "source": [
        "### División de data al principio para evitar leakage"
      ]
    },
    {
      "cell_type": "code",
      "execution_count": 14,
      "id": "a3ce11ad",
      "metadata": {},
      "outputs": [],
      "source": [
        "# =========================================================\n",
        "# 0) Datos y división honesta (test imbalanced intacto)\n",
        "# =========================================================\n",
        "y = data['Fuga'].astype(int)\n",
        "X = data.drop(columns=['Fuga'])\n",
        "\n",
        "num_cols = X.select_dtypes(include=['int64','float64','int32','float32']).columns.tolist()\n",
        "cat_cols = X.columns.difference(num_cols).tolist()\n",
        "\n",
        "X_train, X_test, y_train, y_test = train_test_split(\n",
        "    X, y, test_size=0.2, stratify=y, random_state=RSEED\n",
        ")\n"
      ]
    },
    {
      "cell_type": "markdown",
      "id": "1c078e28",
      "metadata": {},
      "source": [
        "### Preprocesamiento genérico "
      ]
    },
    {
      "cell_type": "code",
      "execution_count": null,
      "id": "13b575d6",
      "metadata": {},
      "outputs": [],
      "source": [
        "# =========================================================\n",
        "# 1) Preprocesamiento por tipo de variable\n",
        "# =========================================================\n",
        "pre_num = SkPipeline(steps=[\n",
        "    ('imp', SimpleImputer(strategy='median')),\n",
        "    ('sc', StandardScaler())\n",
        "])\n",
        "\n",
        "# Usa sparse=False para compatibilidad amplia (si tienes sklearn >=1.2 usa sparse_output=False)\n",
        "pre_cat = SkPipeline(steps=[\n",
        "    ('imp', SimpleImputer(strategy='most_frequent')),\n",
        "    ('oh',  OneHotEncoder(handle_unknown='ignore', sparse_output=False))\n",
        "])\n",
        "\n",
        "pre = ColumnTransformer([\n",
        "    ('num', pre_num, num_cols),\n",
        "    ('cat', pre_cat, cat_cols)\n",
        "])"
      ]
    },
    {
      "cell_type": "markdown",
      "id": "f40e5902",
      "metadata": {},
      "source": [
        "### Definición de pipelines de distintos tipos de undersampling"
      ]
    },
    {
      "cell_type": "code",
      "execution_count": 28,
      "id": "efc034ea",
      "metadata": {},
      "outputs": [],
      "source": [
        "# =========================================================\n",
        "# 2) Definir modelos / estrategias a comparar\n",
        "#    - Baseline con pesos\n",
        "#    - Undersampling avanzado (NCR, IHT, NearMiss)\n",
        "#    - Ensembles balanceados (Balanced RF, EasyEnsemble)\n",
        "# =========================================================\n",
        "pipelines = {}\n",
        "\n",
        "# 2.1) Baseline honesto sin remuestrear (pesos balanceados)\n",
        "pipelines['logit_weighted'] = Pipeline(steps=[\n",
        "    ('pre', pre),\n",
        "    ('clf', LogisticRegression(max_iter=1000, solver='liblinear', class_weight='balanced'))\n",
        "])\n",
        "\n",
        "# 2.2) Random undersampling (ratio 1:2) + Logit\n",
        "pipelines['logit_random_under_1to2'] = Pipeline(steps=[\n",
        "    ('pre', pre),\n",
        "    ('under', RandomUnderSampler(sampling_strategy='auto', random_state=RSEED)),  # pos:maj = 1:2\n",
        "    ('clf', LogisticRegression(max_iter=1000, solver='liblinear'))\n",
        "])\n",
        "\n",
        "# 2.3) NCR (limpieza de vecindario) -> RandomUnderSampler + Logit\n",
        "pipelines['logit_ncr_then_random_under'] = Pipeline(steps=[\n",
        "    ('pre', pre),\n",
        "    ('clean', NeighbourhoodCleaningRule(n_neighbors=3, threshold_cleaning=0.5)),\n",
        "    ('under', RandomUnderSampler(sampling_strategy='auto', random_state=RSEED)),\n",
        "    ('clf', LogisticRegression(max_iter=1000, solver='liblinear'))\n",
        "])\n",
        "\n",
        "# 2.4) IHT (conserva casos difíciles) -> RandomUnder + Logit\n",
        "pipelines['logit_iht_then_random_under'] = Pipeline(steps=[\n",
        "    ('pre', pre),\n",
        "    ('iht', InstanceHardnessThreshold(\n",
        "        estimator=LogisticRegression(max_iter=1000, solver='liblinear', class_weight='balanced'),\n",
        "        random_state=RSEED)),\n",
        "    ('under', RandomUnderSampler(sampling_strategy='auto', random_state=RSEED)),\n",
        "    ('clf', LogisticRegression(max_iter=1000, solver='liblinear'))\n",
        "])\n",
        "\n",
        "# 2.5) NearMiss v1 (frontera) + Logit (ojo: sensible a escalado; ya escalamos numéricas)\n",
        "pipelines['logit_nearmiss_v1'] = Pipeline(steps=[\n",
        "    ('pre', pre),\n",
        "    ('nm', NearMiss(version=1)),\n",
        "    ('clf', LogisticRegression(max_iter=1000, solver='liblinear'))\n",
        "])\n",
        "\n",
        "# 2.6) Balanced Random Forest (undersampling interno por árbol)\n",
        "pipelines['balanced_rf'] = Pipeline(steps=[\n",
        "    ('pre', pre),\n",
        "    ('clf', BalancedRandomForestClassifier(\n",
        "        n_estimators=400, max_depth=None, random_state=RSEED, n_jobs=-1))\n",
        "])\n",
        "\n",
        "# 2.7) EasyEnsemble (múltiples subconjuntos balanceados + AdaBoost)\n",
        "pipelines['easy_ensemble'] = Pipeline(steps=[\n",
        "    ('pre', pre),\n",
        "    ('clf', EasyEnsembleClassifier(n_estimators=10, random_state=RSEED, n_jobs=-1))\n",
        "])\n",
        "\n",
        "# Opcional: si tienes XGBoost/LightGBM instalados, puedes añadirlos sin remuestreo usando pesos.\n",
        "# from xgboost import XGBClassifier\n",
        "# pipelines['xgb_weighted'] = Pipeline(steps=[\n",
        "#     ('pre', pre),\n",
        "#     ('clf', XGBClassifier(\n",
        "#         n_estimators=600, max_depth=4, learning_rate=0.05,\n",
        "#         subsample=0.9, colsample_bytree=0.9, reg_lambda=1.0,\n",
        "#         tree_method='hist', eval_metric='aucpr',\n",
        "#         scale_pos_weight=(y_train.value_counts()[0]/y_train.value_counts()[1]),\n",
        "#         random_state=RSEED))\n",
        "# ])"
      ]
    },
    {
      "cell_type": "markdown",
      "id": "f6a69670",
      "metadata": {},
      "source": [
        "### Cross Validation"
      ]
    },
    {
      "cell_type": "code",
      "execution_count": 29,
      "id": "7pxX2AG1GdLu",
      "metadata": {
        "colab": {
          "base_uri": "https://localhost:8080/"
        },
        "id": "7pxX2AG1GdLu",
        "outputId": "d8ec7825-3ae7-438e-ec5b-13ce34caf61f"
      },
      "outputs": [
        {
          "name": "stdout",
          "output_type": "stream",
          "text": [
            "                     modelo  roc_auc_mean  roc_auc_std  average_precision_mean  average_precision_std  recall_mean  recall_std  precision_mean  precision_std  f1_mean  f1_std  balanced_accuracy_mean  balanced_accuracy_std  matthews_corrcoef_mean  matthews_corrcoef_std\n",
            "              easy_ensemble        0.5811       0.0133                  0.2397                 0.0118       0.4722      0.0229          0.2445         0.0084   0.3221  0.0111                  0.5706                 0.0098                  0.1144                 0.0158\n",
            "             logit_weighted        0.5562       0.0143                  0.2196                 0.0101       0.6273      0.0273          0.2069         0.0058   0.3111  0.0096                  0.5409                 0.0112                  0.0641                 0.0176\n",
            "                balanced_rf        0.5562       0.0118                  0.2190                 0.0075       0.2184      0.0160          0.2436         0.0154   0.2302  0.0148                  0.5322                 0.0084                  0.0673                 0.0175\n",
            "logit_ncr_then_random_under        0.5541       0.0146                  0.2182                 0.0101       0.6423      0.0275          0.2050         0.0058   0.3108  0.0094                  0.5386                 0.0113                  0.0608                 0.0179\n",
            "logit_iht_then_random_under        0.5540       0.0145                  0.2178                 0.0102       0.8251      0.0170          0.1946         0.0035   0.3150  0.0057                  0.5252                 0.0091                  0.0477                 0.0172\n",
            "    logit_random_under_1to2        0.5510       0.0137                  0.2158                 0.0092       0.6179      0.0239          0.2058         0.0049   0.3087  0.0079                  0.5384                 0.0092                  0.0601                 0.0145\n",
            "          logit_nearmiss_v1        0.4663       0.0144                  0.1724                 0.0061       0.6294      0.0230          0.1749         0.0049   0.2737  0.0081                  0.4779                 0.0107                 -0.0364                 0.0176\n"
          ]
        }
      ],
      "source": [
        "# =========================================================\n",
        "# 3) Cross-Validation 5 × 10 con métricas relevantes\n",
        "# =========================================================\n",
        "cv = RepeatedStratifiedKFold(n_splits=5, n_repeats=10, random_state=RSEED)\n",
        "\n",
        "scoring = {\n",
        "    'roc_auc': 'roc_auc',\n",
        "    'average_precision': 'average_precision',  # PR-AUC\n",
        "    'recall': 'recall',\n",
        "    'precision': 'precision',\n",
        "    'f1': 'f1',\n",
        "    'balanced_accuracy': 'balanced_accuracy',\n",
        "    'matthews_corrcoef': 'matthews_corrcoef'\n",
        "}\n",
        "\n",
        "def evaluar_pipelines(pipelines, X, y, cv, scoring):\n",
        "    filas = []\n",
        "    for nombre, pipe in pipelines.items():\n",
        "        res = cross_validate(pipe, X, y, cv=cv, scoring=scoring, n_jobs=-1, error_score='raise')\n",
        "        fila = {'modelo': nombre}\n",
        "        for m in scoring.keys():\n",
        "            vals = res['test_' + m]\n",
        "            fila[m + '_mean'] = vals.mean()\n",
        "            fila[m + '_std']  = vals.std(ddof=1)\n",
        "        filas.append(fila)\n",
        "    resumen = pd.DataFrame(filas).sort_values('average_precision_mean', ascending=False)\n",
        "    return resumen\n",
        "\n",
        "cv_summary = evaluar_pipelines(pipelines, X_train, y_train, cv, scoring)\n",
        "\n",
        "print(cv_summary.to_string(index=False, float_format=lambda x: f\"{x:.4f}\"))"
      ]
    },
    {
      "cell_type": "markdown",
      "id": "63b980a6",
      "metadata": {},
      "source": [
        "### Mejor PR-AUC y evaluación en test real"
      ]
    },
    {
      "cell_type": "code",
      "execution_count": 49,
      "id": "a7368fb8",
      "metadata": {},
      "outputs": [
        {
          "name": "stdout",
          "output_type": "stream",
          "text": [
            "\n",
            "Mejor según CV (PR-AUC): easy_ensemble\n",
            "\n",
            "[Test] ROC-AUC: 0.5815 | PR-AUC: 0.2244\n",
            "\n",
            "[Test] Umbral 0.5\n",
            " Confusion matrix:\n",
            " [[2044 1056]\n",
            " [ 365  338]]\n",
            "              precision    recall  f1-score   support\n",
            "\n",
            "           0     0.8485    0.6594    0.7421      3100\n",
            "           1     0.2425    0.4808    0.3224       703\n",
            "\n",
            "    accuracy                         0.6263      3803\n",
            "   macro avg     0.5455    0.5701    0.5322      3803\n",
            "weighted avg     0.7365    0.6263    0.6645      3803\n",
            "\n",
            " Recall: 0.4808 | Precision: 0.2425 | F1: 0.3224 | BalAcc: 0.5701 | MCC: 0.1129\n",
            "\n",
            "[Test] Umbral óptimo por F1 (t* = 0.4338)\n",
            " Confusion matrix:\n",
            " [[1488 1612]\n",
            " [ 246  457]]\n",
            "              precision    recall  f1-score   support\n",
            "\n",
            "           0     0.8581    0.4800    0.6156      3100\n",
            "           1     0.2209    0.6501    0.3297       703\n",
            "\n",
            "    accuracy                         0.5114      3803\n",
            "   macro avg     0.5395    0.5650    0.4727      3803\n",
            "weighted avg     0.7403    0.5114    0.5628      3803\n",
            "\n",
            " Recall: 0.6501 | Precision: 0.2209 | F1: 0.3297 | BalAcc: 0.5650 | MCC: 0.1014\n",
            "\n",
            "[Test] ROC-AUC: 0.5815 | PR-AUC: 0.2244\n",
            "\n",
            "[Test] Umbral 0.5\n",
            " Confusion matrix:\n",
            " [[2044 1056]\n",
            " [ 365  338]]\n",
            "              precision    recall  f1-score   support\n",
            "\n",
            "           0     0.8485    0.6594    0.7421      3100\n",
            "           1     0.2425    0.4808    0.3224       703\n",
            "\n",
            "    accuracy                         0.6263      3803\n",
            "   macro avg     0.5455    0.5701    0.5322      3803\n",
            "weighted avg     0.7365    0.6263    0.6645      3803\n",
            "\n",
            " Recall: 0.4808 | Precision: 0.2425 | F1: 0.3224 | BalAcc: 0.5701 | MCC: 0.1129\n",
            "\n",
            "[Test] Umbral óptimo por F1 (t* = 0.4338)\n",
            " Confusion matrix:\n",
            " [[1488 1612]\n",
            " [ 246  457]]\n",
            "              precision    recall  f1-score   support\n",
            "\n",
            "           0     0.8581    0.4800    0.6156      3100\n",
            "           1     0.2209    0.6501    0.3297       703\n",
            "\n",
            "    accuracy                         0.5114      3803\n",
            "   macro avg     0.5395    0.5650    0.4727      3803\n",
            "weighted avg     0.7403    0.5114    0.5628      3803\n",
            "\n",
            " Recall: 0.6501 | Precision: 0.2209 | F1: 0.3297 | BalAcc: 0.5650 | MCC: 0.1014\n"
          ]
        }
      ],
      "source": [
        "# =========================================================\n",
        "# 4) Elegir el mejor por PR-AUC y evaluar en test real\n",
        "#    Incluye ajuste de umbral por F1 en PR curve\n",
        "# =========================================================\n",
        "best_name = cv_summary.iloc[0]['modelo']\n",
        "best_pipe = pipelines[best_name]\n",
        "print(f\"\\nMejor según CV (PR-AUC): {best_name}\")\n",
        "\n",
        "# Reentrenar en TODO el train\n",
        "best_pipe.fit(X_train, y_train)\n",
        "\n",
        "# Predicciones en test\n",
        "if hasattr(best_pipe, \"predict_proba\"):\n",
        "    prob_test = best_pipe.predict_proba(X_test)[:, 1]\n",
        "elif hasattr(best_pipe, \"decision_function\"):\n",
        "    # estandarizar a [0,1] vía min-max para PR curve si no hay proba\n",
        "    df_raw = best_pipe.decision_function(X_test)\n",
        "    df_min, df_max = df_raw.min(), df_raw.max()\n",
        "    prob_test = (df_raw - df_min) / (df_max - df_min + 1e-12)\n",
        "else:\n",
        "    # fallback a predicción dura (no ideal para PR-AUC)\n",
        "    prob_test = best_pipe.predict(X_test)\n",
        "\n",
        "# Métricas continuas\n",
        "roc = roc_auc_score(y_test, prob_test)\n",
        "apr = average_precision_score(y_test, prob_test)\n",
        "print(f\"\\n[Test] ROC-AUC: {roc:.4f} | PR-AUC: {apr:.4f}\")\n",
        "\n",
        "# Umbral por defecto 0.5\n",
        "pred_05 = (prob_test >= 0.5).astype(int)\n",
        "def report(y_true, y_pred, tag):\n",
        "    print(f\"\\n[Test] {tag}\")\n",
        "    print(\" Confusion matrix:\\n\", confusion_matrix(y_true, y_pred))\n",
        "    print(classification_report(y_true, y_pred, digits=4))\n",
        "    print(f\" Recall: {recall_score(y_true, y_pred):.4f} | Precision: {precision_score(y_true, y_pred):.4f} | \"\n",
        "          f\"F1: {f1_score(y_true, y_pred):.4f} | BalAcc: {balanced_accuracy_score(y_true, y_pred):.4f} | \"\n",
        "          f\"MCC: {matthews_corrcoef(y_true, y_pred):.4f}\")\n",
        "\n",
        "report(y_test, pred_05, \"Umbral 0.5\")\n",
        "\n",
        "# Ajuste de umbral maximizando F1 en PR curve\n",
        "prec, rec, thr = precision_recall_curve(y_test, prob_test)\n",
        "f1_vals = 2 * prec * rec / (prec + rec + 1e-12)\n",
        "# Nota: precision_recall_curve devuelve len(thr) = len(prec) - 1\n",
        "best_idx = np.nanargmax(f1_vals[:-1])  # excluir el último punto (sin umbral)\n",
        "best_thr = thr[best_idx]\n",
        "pred_star = (prob_test >= best_thr).astype(int)\n",
        "\n",
        "report(y_test, pred_star, f\"Umbral óptimo por F1 (t* = {best_thr:.4f})\")\n",
        "\n"
      ]
    },
    {
      "cell_type": "markdown",
      "id": "b5471f27",
      "metadata": {},
      "source": [
        "### Umbrales por costo de negocio"
      ]
    },
    {
      "cell_type": "code",
      "execution_count": null,
      "id": "2a4bddbd",
      "metadata": {},
      "outputs": [],
      "source": [
        "# =========================================================\n",
        "# 5) (Opcional) Umbral por costos de negocio\n",
        "#    Si costo(FN)=C_FN y costo(FP)=C_FP, umbral ≈ C_FN / (C_FN + C_FP)\n",
        "# =========================================================\n",
        "# C_FN, C_FP = 5.0, 1.0\n",
        "# thr_cost = C_FN / (C_FN + C_FP)\n",
        "# pred_cost = (prob_test >= thr_cost).astype(int)\n",
        "# report(y_test, pred_cost, f\"Umbral por costos (t*={thr_cost:.3f}, C_FN={C_FN}, C_FP={C_FP})\")"
      ]
    },
    {
      "cell_type": "markdown",
      "id": "9b5d5487",
      "metadata": {},
      "source": [
        "## Grid search en la Data Cruda undersampleada"
      ]
    },
    {
      "cell_type": "code",
      "execution_count": null,
      "id": "5d0a7fb3",
      "metadata": {},
      "outputs": [],
      "source": [
        "from sklearn.model_selection import StratifiedKFold, GridSearchCV\n",
        "from sklearn.calibration import CalibratedClassifierCV  "
      ]
    },
    {
      "cell_type": "markdown",
      "id": "095b95c7",
      "metadata": {},
      "source": [
        "### Easy ensembler Pipeline y parametros"
      ]
    },
    {
      "cell_type": "code",
      "execution_count": 32,
      "id": "9763a00d",
      "metadata": {},
      "outputs": [],
      "source": [
        "pipe_easy = Pipeline(steps=[\n",
        "    ('pre', pre),\n",
        "    ('clf', EasyEnsembleClassifier(random_state=RSEED, n_jobs=-1))\n",
        "])\n",
        "\n",
        "cv = StratifiedKFold(n_splits=5, shuffle=True, random_state=RSEED)\n",
        "\n",
        "# Nota: EasyEnsemble entrena un AdaBoost por subconjunto balanceado.\n",
        "# Afinamos: nº de subconjuntos, el AdaBoost interno y el depth de su árbol débil.\n",
        "from sklearn.tree import DecisionTreeClassifier\n",
        "from sklearn.ensemble import AdaBoostClassifier\n",
        "\n",
        "param_grid_easy = {\n",
        "    'clf__n_estimators': [5, 10, 20],                               # nº de subconjuntos balanceados\n",
        "    'clf__sampling_strategy': [1.0],                            # 1.0=1:1, (pos:maj)\n",
        "    'clf__estimator': [AdaBoostClassifier(random_state=RSEED)],      # AdaBoost interno\n",
        "    'clf__estimator__n_estimators': [50, 100, 200],                  # iteraciones de AdaBoost\n",
        "    'clf__estimator__learning_rate': [0.05, 0.1, 0.2, 1.0],\n",
        "    'clf__estimator__estimator': [DecisionTreeClassifier(max_depth=1, random_state=RSEED),\n",
        "                                  DecisionTreeClassifier(max_depth=2, random_state=RSEED)],\n",
        "    'clf__estimator__estimator__min_samples_leaf': [1, 5]\n",
        "}"
      ]
    },
    {
      "cell_type": "markdown",
      "id": "40a6dde4",
      "metadata": {},
      "source": [
        "### Easy ensembler grid search y calibración de umbral"
      ]
    },
    {
      "cell_type": "code",
      "execution_count": 33,
      "id": "cd0b5dc1",
      "metadata": {},
      "outputs": [
        {
          "name": "stdout",
          "output_type": "stream",
          "text": [
            "Fitting 5 folds for each of 144 candidates, totalling 720 fits\n",
            "\n",
            "=== EasyEnsemble – mejor configuración (por PR-AUC CV) ===\n",
            "{'clf__estimator': AdaBoostClassifier(random_state=42), 'clf__estimator__estimator': DecisionTreeClassifier(max_depth=2, random_state=42), 'clf__estimator__estimator__min_samples_leaf': 1, 'clf__estimator__learning_rate': 0.2, 'clf__estimator__n_estimators': 200, 'clf__n_estimators': 10, 'clf__sampling_strategy': 1.0}\n",
            "Best PR-AUC (CV): 0.2410\n",
            "\n",
            "=== EasyEnsemble – mejor configuración (por PR-AUC CV) ===\n",
            "{'clf__estimator': AdaBoostClassifier(random_state=42), 'clf__estimator__estimator': DecisionTreeClassifier(max_depth=2, random_state=42), 'clf__estimator__estimator__min_samples_leaf': 1, 'clf__estimator__learning_rate': 0.2, 'clf__estimator__n_estimators': 200, 'clf__n_estimators': 10, 'clf__sampling_strategy': 1.0}\n",
            "Best PR-AUC (CV): 0.2410\n",
            "Umbral para recall target 0.7: t* = 0.1524 (recall real: 0.7042)\n",
            "Umbral óptimo (F1 en TRAIN): t* = 0.1630\n",
            "Umbral para recall target 0.7: t* = 0.1524 (recall real: 0.7042)\n",
            "Umbral óptimo (F1 en TRAIN): t* = 0.1630\n"
          ]
        }
      ],
      "source": [
        "gs_easy = GridSearchCV(\n",
        "    estimator=pipe_easy,\n",
        "    param_grid=param_grid_easy,\n",
        "    scoring={'pr_auc': 'average_precision', 'roc_auc': 'roc_auc'},\n",
        "    refit='pr_auc',  # elige por PR-AUC\n",
        "    cv=cv, n_jobs=-1, verbose=1, return_train_score=False\n",
        ")\n",
        "gs_easy.fit(X_train, y_train)\n",
        "\n",
        "print(\"\\n=== EasyEnsemble – mejor configuración (por PR-AUC CV) ===\")\n",
        "print(gs_easy.best_params_)\n",
        "print(f\"Best PR-AUC (CV): {gs_easy.best_score_:.4f}\")\n",
        "\n",
        "best_easy = gs_easy.best_estimator_\n",
        "\n",
        "# ============================\n",
        "# 3) Calibración + Umbral (solo con TRAIN)\n",
        "# ============================\n",
        "cal_easy = CalibratedClassifierCV(best_easy, method='isotonic', cv=5)\n",
        "cal_easy.fit(X_train, y_train)\n",
        "\n",
        "# Probabilidades calibradas en TRAIN (CV interna de calibración) para elegir umbral\n",
        "proba_tr = cal_easy.predict_proba(X_train)[:,1]\n",
        "prec, rec, thr = precision_recall_curve(y_train, proba_tr)\n",
        "\n",
        "# Encontrar umbral para recall target de 0.7\n",
        "target_recall = 0.7\n",
        "recall_diff = np.abs(rec[:-1] - target_recall)  # excluir último punto sin umbral\n",
        "best_idx_recall = np.argmin(recall_diff)\n",
        "t_star_recall = thr[best_idx_recall]\n",
        "\n",
        "# También calcular umbral por F1 para comparación\n",
        "f1_vals = 2*prec*rec / (prec+rec + 1e-12)\n",
        "best_idx_f1 = np.nanargmax(f1_vals[:-1])  # último punto no tiene umbral\n",
        "t_star_f1 = thr[best_idx_f1]\n",
        "\n",
        "print(f\"Umbral para recall target {target_recall}: t* = {t_star_recall:.4f} (recall real: {rec[best_idx_recall]:.4f})\")\n",
        "print(f\"Umbral óptimo (F1 en TRAIN): t* = {t_star_f1:.4f}\")\n",
        "\n",
        "# Usar el umbral para recall target\n",
        "t_star = t_star_recall"
      ]
    },
    {
      "cell_type": "markdown",
      "id": "d636ba21",
      "metadata": {},
      "source": [
        "### Evaluación en test"
      ]
    },
    {
      "cell_type": "code",
      "execution_count": 35,
      "id": "21172903",
      "metadata": {},
      "outputs": [
        {
          "name": "stdout",
          "output_type": "stream",
          "text": [
            "\n",
            "[EASY] Test ROC-AUC: 0.5819 | PR-AUC: 0.2230\n",
            "\n",
            "[EASY] Umbral 0.5\n",
            "Matriz de confusión:\n",
            " [[3097    3]\n",
            " [ 703    0]]\n",
            "              precision    recall  f1-score   support\n",
            "\n",
            "           0     0.8150    0.9990    0.8977      3100\n",
            "           1     0.0000    0.0000    0.0000       703\n",
            "\n",
            "    accuracy                         0.8144      3803\n",
            "   macro avg     0.4075    0.4995    0.4488      3803\n",
            "weighted avg     0.6643    0.8144    0.7317      3803\n",
            "\n",
            "Recall+: 0.0000 | Precision: 0.0000 | F1: 0.0000 | BalAcc: 0.4995 | MCC: -0.0134\n",
            "\n",
            "[EASY] Umbral para recall 0.7 (t*=0.1524)\n",
            "Matriz de confusión:\n",
            " [[1324 1776]\n",
            " [ 215  488]]\n",
            "              precision    recall  f1-score   support\n",
            "\n",
            "           0     0.8603    0.4271    0.5708      3100\n",
            "           1     0.2155    0.6942    0.3290       703\n",
            "\n",
            "    accuracy                         0.4765      3803\n",
            "   macro avg     0.5379    0.5606    0.4499      3803\n",
            "weighted avg     0.7411    0.4765    0.5261      3803\n",
            "\n",
            "Recall+: 0.6942 | Precision: 0.2155 | F1: 0.3290 | BalAcc: 0.5606 | MCC: 0.0959\n",
            "\n",
            "[EASY] Umbral t* (opt F1 en TRAIN, t*=0.1630)\n",
            "Matriz de confusión:\n",
            " [[1799 1301]\n",
            " [ 316  387]]\n",
            "              precision    recall  f1-score   support\n",
            "\n",
            "           0     0.8506    0.5803    0.6899      3100\n",
            "           1     0.2293    0.5505    0.3237       703\n",
            "\n",
            "    accuracy                         0.5748      3803\n",
            "   macro avg     0.5399    0.5654    0.5068      3803\n",
            "weighted avg     0.7357    0.5748    0.6222      3803\n",
            "\n",
            "Recall+: 0.5505 | Precision: 0.2293 | F1: 0.3237 | BalAcc: 0.5654 | MCC: 0.1022\n"
          ]
        }
      ],
      "source": [
        "# ============================\n",
        "# 4) Evaluación en TEST (intacto e imbalanced)\n",
        "# ============================\n",
        "proba_te = cal_easy.predict_proba(X_test)[:,1]\n",
        "roc = roc_auc_score(y_test, proba_te)\n",
        "apr = average_precision_score(y_test, proba_te)\n",
        "print(f\"\\n[EASY] Test ROC-AUC: {roc:.4f} | PR-AUC: {apr:.4f}\")\n",
        "\n",
        "def report(y_true, proba, thr, tag):\n",
        "    pred = (proba >= thr).astype(int)\n",
        "    cm = confusion_matrix(y_true, pred)\n",
        "    print(f\"\\n[EASY] {tag}\")\n",
        "    print(\"Matriz de confusión:\\n\", cm)\n",
        "    print(classification_report(y_true, pred, digits=4))\n",
        "    print(f\"Recall+: {recall_score(y_true, pred):.4f} | Precision: {precision_score(y_true, pred):.4f} | \"\n",
        "          f\"F1: {f1_score(y_true, pred):.4f} | BalAcc: {balanced_accuracy_score(y_true, pred):.4f} | \"\n",
        "          f\"MCC: {matthews_corrcoef(y_true, pred):.4f}\")\n",
        "\n",
        "report(y_test, proba_te, 0.5, \"Umbral 0.5\")\n",
        "report(y_test, proba_te, t_star_recall, f\"Umbral para recall {target_recall} (t*={t_star_recall:.4f})\")\n",
        "report(y_test, proba_te, t_star_f1, f\"Umbral t* (opt F1 en TRAIN, t*={t_star_f1:.4f})\")"
      ]
    },
    {
      "cell_type": "markdown",
      "id": "31661825",
      "metadata": {},
      "source": [
        "TN FP\n",
        "\n",
        "FN TP"
      ]
    },
    {
      "cell_type": "markdown",
      "id": "8319e169",
      "metadata": {},
      "source": [
        "### Regresión logística pipeline y parámetros"
      ]
    },
    {
      "cell_type": "code",
      "execution_count": null,
      "id": "54b63384",
      "metadata": {},
      "outputs": [],
      "source": [
        "# ============================\n",
        "# 5) GRID SEARCH – Logística (baseline)\n",
        "#    (sin remuestrear; class_weight='balanced')\n",
        "# ============================\n",
        "pipe_logit = Pipeline(steps=[\n",
        "    ('pre', pre),\n",
        "    ('clf', LogisticRegression(max_iter=5000, solver='liblinear', class_weight='balanced', random_state=RSEED))\n",
        "])\n",
        "\n",
        "# Expanded parameter grid for more candidates\n",
        "param_grid_logit = {\n",
        "    'clf__penalty': ['l2', 'l1'],\n",
        "    'clf__C': np.logspace(-4, 3, 15),          # More C values: 0.0001 to 1000, 15 points\n",
        "    'clf__solver': ['liblinear'],              # Keep consistent\n",
        "    'clf__max_iter': [1000, 5000, 10000]      # Different max_iter values\n",
        "}\n",
        "\n",
        "print(f\"Total combinations to test: {len(param_grid_logit['clf__penalty']) * len(param_grid_logit['clf__C']) * len(param_grid_logit['clf__solver']) * len(param_grid_logit['clf__max_iter'])}\")"
      ]
    },
    {
      "cell_type": "markdown",
      "id": "a8cc2f12",
      "metadata": {},
      "source": [
        "### Regresión logística grid search y calibración de umbral"
      ]
    },
    {
      "cell_type": "code",
      "execution_count": 45,
      "id": "c601046a",
      "metadata": {},
      "outputs": [
        {
          "name": "stdout",
          "output_type": "stream",
          "text": [
            "Fitting 5 folds for each of 16 candidates, totalling 80 fits\n",
            "\n",
            "=== Logística – mejor configuración (por PR-AUC CV) ===\n",
            "{'clf__C': np.float64(0.005179474679231213), 'clf__l1_ratio': None, 'clf__penalty': 'l1'}\n",
            "Best PR-AUC (CV): 0.2289\n",
            "Umbral para recall target 0.7: t* = 0.1592 (recall real: 0.7682)\n",
            "Umbral óptimo (F1 en TRAIN): t* = 0.1620\n",
            "\n",
            "=== Logística – mejor configuración (por PR-AUC CV) ===\n",
            "{'clf__C': np.float64(0.005179474679231213), 'clf__l1_ratio': None, 'clf__penalty': 'l1'}\n",
            "Best PR-AUC (CV): 0.2289\n",
            "Umbral para recall target 0.7: t* = 0.1592 (recall real: 0.7682)\n",
            "Umbral óptimo (F1 en TRAIN): t* = 0.1620\n"
          ]
        }
      ],
      "source": [
        "gs_logit = GridSearchCV(\n",
        "    estimator=pipe_logit,\n",
        "    param_grid=param_grid_logit,\n",
        "    scoring={'pr_auc':'average_precision', 'roc_auc':'roc_auc'},\n",
        "    refit='pr_auc',\n",
        "    cv=cv, n_jobs=-1, verbose=1, return_train_score=False\n",
        ")\n",
        "gs_logit.fit(X_train, y_train)\n",
        "\n",
        "print(\"\\n=== Logística – mejor configuración (por PR-AUC CV) ===\")\n",
        "print(gs_logit.best_params_)\n",
        "print(f\"Best PR-AUC (CV): {gs_logit.best_score_:.4f}\")\n",
        "\n",
        "best_logit = gs_logit.best_estimator_\n",
        "\n",
        "# Calibración y evaluación en TEST para baseline\n",
        "cal_log = CalibratedClassifierCV(best_logit, method='isotonic', cv=5)\n",
        "cal_log.fit(X_train, y_train)\n",
        "\n",
        "proba_tr_log = cal_log.predict_proba(X_train)[:,1]\n",
        "prec_l, rec_l, thr_l = precision_recall_curve(y_train, proba_tr_log)\n",
        "\n",
        "# Encontrar umbral para recall target de 0.7 (usar variable diferente para evitar duplicado)\n",
        "target_recall_logit = 0.7\n",
        "recall_diff_l = np.abs(rec_l[:-1] - target_recall_logit)  # excluir último punto sin umbral\n",
        "best_idx_recall_l = np.argmin(recall_diff_l)\n",
        "t_star_recall_log = thr_l[best_idx_recall_l]\n",
        "\n",
        "# También calcular umbral por F1 para comparación\n",
        "f1_vals_l = 2*prec_l*rec_l / (prec_l+rec_l + 1e-12)\n",
        "best_idx_f1_l = np.nanargmax(f1_vals_l[:-1])\n",
        "t_star_f1_log = thr_l[best_idx_f1_l]\n",
        "\n",
        "print(f\"Umbral para recall target {target_recall_logit}: t* = {t_star_recall_log:.4f} (recall real: {rec_l[best_idx_recall_l]:.4f})\")\n",
        "print(f\"Umbral óptimo (F1 en TRAIN): t* = {t_star_f1_log:.4f}\")\n",
        "\n",
        "# Usar el umbral para recall target\n",
        "t_star_log = t_star_recall_log"
      ]
    },
    {
      "cell_type": "markdown",
      "id": "83a48554",
      "metadata": {},
      "source": [
        "### Evaluación en test"
      ]
    },
    {
      "cell_type": "code",
      "execution_count": 48,
      "id": "756104f7",
      "metadata": {},
      "outputs": [
        {
          "name": "stdout",
          "output_type": "stream",
          "text": [
            "\n",
            "[LOGIT] Test ROC-AUC: 0.5859 | PR-AUC: 0.2377\n",
            "\n",
            "[LOGIT] Umbral 0.5\n",
            "Matriz de confusión:\n",
            " [[3100    0]\n",
            " [ 703    0]]\n",
            "              precision    recall  f1-score   support\n",
            "\n",
            "           0       0.82      1.00      0.90      3100\n",
            "           1       0.00      0.00      0.00       703\n",
            "\n",
            "    accuracy                           0.82      3803\n",
            "   macro avg       0.41      0.50      0.45      3803\n",
            "weighted avg       0.66      0.82      0.73      3803\n",
            "\n",
            "Recall+: 0.0000 | Precision: 0.0000 | F1: 0.0000 | BalAcc: 0.5000 | MCC: 0.0000\n",
            "\n",
            "[LOGIT] Umbral para recall 0.7 (t*=0.1592)\n",
            "Matriz de confusión:\n",
            " [[ 926 2174]\n",
            " [ 156  547]]\n",
            "              precision    recall  f1-score   support\n",
            "\n",
            "           0       0.86      0.30      0.44      3100\n",
            "           1       0.20      0.78      0.32       703\n",
            "\n",
            "    accuracy                           0.39      3803\n",
            "   macro avg       0.53      0.54      0.38      3803\n",
            "weighted avg       0.73      0.39      0.42      3803\n",
            "\n",
            "Recall+: 0.7781 | Precision: 0.2010 | F1: 0.3195 | BalAcc: 0.5384 | MCC: 0.0661\n",
            "\n",
            "[LOGIT] Umbral t* (opt F1 en TRAIN, t*=0.1620)\n",
            "Matriz de confusión:\n",
            " [[1594 1506]\n",
            " [ 281  422]]\n",
            "              precision    recall  f1-score   support\n",
            "\n",
            "           0       0.85      0.51      0.64      3100\n",
            "           1       0.22      0.60      0.32       703\n",
            "\n",
            "    accuracy                           0.53      3803\n",
            "   macro avg       0.53      0.56      0.48      3803\n",
            "weighted avg       0.73      0.53      0.58      3803\n",
            "\n",
            "Recall+: 0.6003 | Precision: 0.2189 | F1: 0.3208 | BalAcc: 0.5572 | MCC: 0.0889\n"
          ]
        },
        {
          "name": "stderr",
          "output_type": "stream",
          "text": [
            "/Users/kanyewest/Documents/DataMiningTools/data-mining-tools-activities/venv/lib/python3.11/site-packages/sklearn/metrics/_classification.py:1731: UndefinedMetricWarning: Precision is ill-defined and being set to 0.0 in labels with no predicted samples. Use `zero_division` parameter to control this behavior.\n",
            "  _warn_prf(average, modifier, f\"{metric.capitalize()} is\", result.shape[0])\n",
            "/Users/kanyewest/Documents/DataMiningTools/data-mining-tools-activities/venv/lib/python3.11/site-packages/sklearn/metrics/_classification.py:1731: UndefinedMetricWarning: Precision is ill-defined and being set to 0.0 in labels with no predicted samples. Use `zero_division` parameter to control this behavior.\n",
            "  _warn_prf(average, modifier, f\"{metric.capitalize()} is\", result.shape[0])\n",
            "/Users/kanyewest/Documents/DataMiningTools/data-mining-tools-activities/venv/lib/python3.11/site-packages/sklearn/metrics/_classification.py:1731: UndefinedMetricWarning: Precision is ill-defined and being set to 0.0 in labels with no predicted samples. Use `zero_division` parameter to control this behavior.\n",
            "  _warn_prf(average, modifier, f\"{metric.capitalize()} is\", result.shape[0])\n",
            "/Users/kanyewest/Documents/DataMiningTools/data-mining-tools-activities/venv/lib/python3.11/site-packages/sklearn/metrics/_classification.py:1731: UndefinedMetricWarning: Precision is ill-defined and being set to 0.0 due to no predicted samples. Use `zero_division` parameter to control this behavior.\n",
            "  _warn_prf(average, modifier, f\"{metric.capitalize()} is\", result.shape[0])\n"
          ]
        }
      ],
      "source": [
        "proba_te_log = cal_log.predict_proba(X_test)[:,1]\n",
        "roc_l = roc_auc_score(y_test, proba_te_log)\n",
        "apr_l = average_precision_score(y_test, proba_te_log)\n",
        "print(f\"\\n[LOGIT] Test ROC-AUC: {roc_l:.4f} | PR-AUC: {apr_l:.4f}\")\n",
        "\n",
        "def report_log(y_true, proba, thr, tag):\n",
        "    pred = (proba >= thr).astype(int)\n",
        "    cm = confusion_matrix(y_true, pred)\n",
        "    print(f\"\\n[LOGIT] {tag}\")\n",
        "    print(\"Matriz de confusión:\\n\", cm)\n",
        "    print(classification_report(y_true, pred, digits=2))\n",
        "    print(f\"Recall+: {recall_score(y_true, pred):.4f} | Precision: {precision_score(y_true, pred):.4f} | \"\n",
        "          f\"F1: {f1_score(y_true, pred):.4f} | BalAcc: {balanced_accuracy_score(y_true, pred):.4f} | \"\n",
        "          f\"MCC: {matthews_corrcoef(y_true, pred):.4f}\")\n",
        "\n",
        "report_log(y_test, proba_te_log, 0.5, \"Umbral 0.5\")\n",
        "report_log(y_test, proba_te_log, t_star_recall_log, f\"Umbral para recall {target_recall_logit} (t*={t_star_recall_log:.4f})\")\n",
        "report_log(y_test, proba_te_log, t_star_f1_log, f\"Umbral t* (opt F1 en TRAIN, t*={t_star_f1_log:.4f})\")"
      ]
    },
    {
      "cell_type": "markdown",
      "id": "7c598396",
      "metadata": {},
      "source": [
        "# Feature Engineering"
      ]
    },
    {
      "cell_type": "markdown",
      "id": "6c2765cf",
      "metadata": {},
      "source": [
        "# Entrenamiento data preparada"
      ]
    },
    {
      "cell_type": "markdown",
      "id": "4120fffa",
      "metadata": {},
      "source": [
        "# Resultados"
      ]
    }
  ],
  "metadata": {
    "colab": {
      "provenance": []
    },
    "kernelspec": {
      "display_name": "venv",
      "language": "python",
      "name": "python3"
    },
    "language_info": {
      "codemirror_mode": {
        "name": "ipython",
        "version": 3
      },
      "file_extension": ".py",
      "mimetype": "text/x-python",
      "name": "python",
      "nbconvert_exporter": "python",
      "pygments_lexer": "ipython3",
      "version": "3.11.13"
    }
  },
  "nbformat": 4,
  "nbformat_minor": 5
}
